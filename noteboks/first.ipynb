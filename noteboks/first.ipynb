{
 "cells": [
  {
   "cell_type": "code",
   "execution_count": null,
   "metadata": {
    "pycharm": {
     "name": "#%%\n"
    }
   },
   "outputs": [],
   "source": [
    "from dataclasses import dataclass\n",
    "from enum import Enum, auto\n",
    "from introducer.util.log import logger\n",
    "\n",
    "\n",
    "class GroupPreference(Enum):\n",
    "    two = auto()\n",
    "    three = auto()\n",
    "    two_or_three = auto()\n",
    "\n",
    "@dataclass\n",
    "class Person:\n",
    "    name: str\n",
    "    email: str = \"\"\n",
    "    group_preference: GroupPreference = GroupPreference.two_or_three\n",
    "    n_sessions = 1"
   ]
  },
  {
   "cell_type": "code",
   "execution_count": null,
   "metadata": {
    "pycharm": {
     "name": "#%%\n"
    }
   },
   "outputs": [],
   "source": [
    "n_two = 5\n",
    "n_three = 3"
   ]
  },
  {
   "cell_type": "code",
   "execution_count": null,
   "metadata": {
    "pycharm": {
     "name": "#%%\n"
    }
   },
   "outputs": [],
   "source": [
    "class ProgrammingError(Exception):\n",
    "    pass"
   ]
  },
  {
   "cell_type": "code",
   "execution_count": null,
   "metadata": {
    "pycharm": {
     "name": "#%%\n"
    }
   },
   "outputs": [],
   "source": [
    "def find_solution(n_two: int, n_three: int) -> tuple[int, int]:\n",
    "    if 0 < n_two + n_three < 2:\n",
    "        raise ValueError(\"Impossible to find solution\")\n",
    "    for move_three_to_two in range(n_three+1):\n",
    "        for move_two_to_three in range(n_two+1):\n",
    "            real_n_two = n_two - move_two_to_three + move_three_to_two\n",
    "            real_n_three = n_three + move_two_to_three - move_three_to_two\n",
    "            assert real_n_two + real_n_three == n_two + n_three\n",
    "            if real_n_two % 2 == 0 and real_n_three % 3 == 0:\n",
    "                return real_n_two, real_n_three\n",
    "    raise ProgrammingError(\"This should be guaranteed to return a solution\")"
   ]
  },
  {
   "cell_type": "code",
   "execution_count": null,
   "metadata": {
    "pycharm": {
     "name": "#%%\n"
    }
   },
   "outputs": [],
   "source": [
    "for n_two in range(10):\n",
    "    for n_three in range(10):\n",
    "        try:\n",
    "            print(n_two, n_three, find_solution(n_two, n_three))\n",
    "        except Exception as e:\n",
    "            print(n_two, n_three, e)\n"
   ]
  },
  {
   "cell_type": "code",
   "execution_count": null,
   "metadata": {
    "pycharm": {
     "name": "#%%\n"
    }
   },
   "outputs": [],
   "source": []
  }
 ],
 "metadata": {
  "kernelspec": {
   "display_name": "Python 3",
   "language": "python",
   "name": "python3"
  },
  "language_info": {
   "codemirror_mode": {
    "name": "ipython",
    "version": 2
   },
   "file_extension": ".py",
   "mimetype": "text/x-python",
   "name": "python",
   "nbconvert_exporter": "python",
   "pygments_lexer": "ipython2",
   "version": "2.7.6"
  }
 },
 "nbformat": 4,
 "nbformat_minor": 0
}
